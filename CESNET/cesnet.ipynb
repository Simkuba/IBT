{
 "cells": [
  {
   "cell_type": "markdown",
   "metadata": {},
   "source": [
    "## Dataset: CESNET\n",
    "#### Author: Jakub Čoček (xcocek00)\n",
    "\n",
    "| Augmentations | Filters | Training | Validation | Fine-tuning | Testing |\n",
    "|---------------|---------|----------|------------|----------------|---------|\n",
    "| Change in Inter-Arrival Time (IAT) | none | CESNET | n/a | n/a | n/a |\n"
   ]
  },
  {
   "cell_type": "code",
   "execution_count": 27,
   "metadata": {},
   "outputs": [],
   "source": [
    "# -- IMPORTS --\n",
    "\n",
    "import os\n",
    "os.chdir('/workplace/flowmind/')\n",
    "\n",
    "import csv\n",
    "import sys\n",
    "\n",
    "# torch imports\n",
    "import torch\n",
    "import torch.nn as nn\n",
    "\n",
    "# flowmind imports\n",
    "from flowmind.contrastive import NTXentLoss\n",
    "\n",
    "# livelossplot imports\n",
    "from livelossplot import PlotLosses\n",
    "from livelossplot.outputs import MatplotlibPlot\n",
    "\n",
    "# common imports\n",
    "os.chdir('/workplace/xcocek00/common/')\n",
    "from augmentations import augment_iat\n",
    "os.chdir('/workplace/xcocek00/common/')\n",
    "from dataloader import create_flowpic_dataloader\n",
    "os.chdir('/workplace/xcocek00/common/')\n",
    "from nn import CNN\n",
    "\n",
    "# sets csv limit\n",
    "csv.field_size_limit(sys.maxsize)\n",
    "\n",
    "# sets the device to use gpu if available, if not, use cpu\n",
    "device = torch.device(f\"cuda\" if torch.cuda.is_available() else \"cpu\")\n"
   ]
  },
  {
   "cell_type": "code",
   "execution_count": 28,
   "metadata": {},
   "outputs": [],
   "source": [
    "# -- DATA LOADERS for ucdavis --\n",
    "# dataloaders yield tuple (flowpic1, flowpic2, label)\n",
    "# using only 15 seconds of the flow\n",
    "\n",
    "# 0 - debug prints are turned off\n",
    "# 1 - debug prints are turned on\n",
    "DEBUG = 0\n",
    "\n",
    "# dataloader used for training\n",
    "dl_train = create_flowpic_dataloader(\n",
    "    dir_path=\"/workplace/data/long-export/tls-pstats100/tmp_balanced/train_all_timestamps.csv\",    \n",
    "    batch_size=32,\n",
    "    meta_key=\"label\",\n",
    "    time_bins = [i * (15 / 32) for i in range(33)],\n",
    "    length_bins = [i * (1500 / 32) for i in range(33)],\n",
    "    flow_transform_1=augment_iat,\n",
    "    flow_transform_2=augment_iat,\n",
    "    bidirectional = False,\n",
    ")\n",
    "\n",
    "\n",
    "if DEBUG:    \n",
    "    print(type(dl_train))\n",
    "    dim_val(dl_train)\n",
    "    print_batch(dl_train, \"training\")\n",
    "    print_batch(dl_class, \"classification\")\n",
    "    debug_batch(dl_train)"
   ]
  },
  {
   "cell_type": "code",
   "execution_count": 29,
   "metadata": {},
   "outputs": [],
   "source": [
    "# -- training loops--\n",
    "\n",
    "def train(model, dataloader, optimizer, contrastive_loss_fn, log):\n",
    "    '''\n",
    "    Training loop\n",
    "\n",
    "    Args:\n",
    "        model: CNN model\n",
    "        dataloader: pytorch dataloader created by create_flowpic_dataloader function\n",
    "        optimizer: chosen optimizer\n",
    "        contrastive_loss_fn: contrastive loss function (NT-Xent)\n",
    "        log: for log collection\n",
    "\n",
    "    Returns:\n",
    "        Avarage loss \n",
    "    '''\n",
    "\n",
    "    model.train()\n",
    "    total_loss = 0.0\n",
    "    batches = 0\n",
    "\n",
    "    # label not needed in -> _\n",
    "    for flowpic1, flowpic2, _ in dataloader:\n",
    "        flowpic1, flowpic2 = flowpic1.to(device), flowpic2.to(device)\n",
    "\n",
    "        optimizer.zero_grad()\n",
    "\n",
    "        z1 = model(flowpic1)\n",
    "        z2 = model(flowpic2)\n",
    "        \n",
    "        # contrastive loss\n",
    "        loss = contrastive_loss_fn(z1, z2)\n",
    "        loss.backward()\n",
    "        optimizer.step()\n",
    "\n",
    "        total_loss += loss.item()\n",
    "        batches += 1\n",
    "        \n",
    "    total_loss /= batches\n",
    "    log[\"loss\"] = total_loss\n",
    "\n",
    "    return total_loss\n"
   ]
  },
  {
   "cell_type": "code",
   "execution_count": 30,
   "metadata": {},
   "outputs": [],
   "source": [
    "# -- traning CNN --\n",
    "\n",
    "def train_cnn(cnn_model, dl_train, cnn_optimizer, contrastive_loss_fn, cnn_liveloss) -> None:\n",
    "    # set params for early stopping\n",
    "    patience = 3\n",
    "    best_loss = float('inf')\n",
    "    no_improvement = 0\n",
    "\n",
    "    for epoch in range(30):\n",
    "        log = {}\n",
    "        train_loss = train(cnn_model, dl_train, cnn_optimizer, contrastive_loss_fn, log)\n",
    "\n",
    "        cnn_liveloss.update(log)\n",
    "        cnn_liveloss.send()\n",
    "\n",
    "        if train_loss < best_loss:\n",
    "            best_loss = train_loss\n",
    "            no_improvement = 0\n",
    "        else:\n",
    "            no_improvement += 1\n",
    "\n",
    "        if no_improvement >= patience:\n",
    "            print(\"Stopping ... epoch \", epoch)\n",
    "            break\n",
    "    \n",
    "    return "
   ]
  },
  {
   "cell_type": "code",
   "execution_count": 31,
   "metadata": {},
   "outputs": [
    {
     "data": {
      "image/png": "[encoded data removed]",
      "text/plain": [
       "<Figure size 1200x400 with 2 Axes>"
      ]
     },
     "metadata": {},
     "output_type": "display_data"
    },
    {
     "name": "stdout",
     "output_type": "stream",
     "text": [
      "Stopping ... epoch  26\n",
      "DONE\n"
     ]
    }
   ],
   "source": [
    "# -- CESNET dataset --\n",
    "\n",
    "# loss functions\n",
    "contrastive_loss_fn = NTXentLoss(temperature=0.07)\n",
    "mlp_loss_fn = nn.CrossEntropyLoss()\n",
    "\n",
    "# CNN\n",
    "cnn_model = CNN().to(device)\n",
    "cnn_optimizer = torch.optim.Adam(cnn_model.parameters(), lr=0.001)\n",
    "cnn_liveloss = PlotLosses(outputs=[MatplotlibPlot(cell_size=(6, 2))])\n",
    "\n",
    "# train cnn\n",
    "_ = train_cnn(cnn_model, dl_train, cnn_optimizer, contrastive_loss_fn, cnn_liveloss)\n",
    "\n",
    "# save model\n",
    "torch.save(cnn_model.state_dict(), f\"/workplace/xcocek00/models/cnn_model.pth\")\n",
    "\n",
    "print(f\"DONE\")"
   ]
  }
 ],
 "metadata": {
  "kernelspec": {
   "display_name": "Python 3 (ipykernel)",
   "language": "python",
   "name": "python3"
  },
  "language_info": {
   "codemirror_mode": {
    "name": "ipython",
    "version": 3
   },
   "file_extension": ".py",
   "mimetype": "text/x-python",
   "name": "python",
   "nbconvert_exporter": "python",
   "pygments_lexer": "ipython3",
   "version": "3.12.2"
  }
 },
 "nbformat": 4,
 "nbformat_minor": 2
}
