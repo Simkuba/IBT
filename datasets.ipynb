{
 "cells": [
  {
   "cell_type": "markdown",
   "metadata": {},
   "source": [
    "# Analysis of datasets used in this work\n",
    "#### Author: Jakub Čoček (xcocek00)"
   ]
  },
  {
   "cell_type": "code",
   "execution_count": 21,
   "metadata": {},
   "outputs": [
    {
     "data": {
      "text/plain": [
       "9223372036854775807"
      ]
     },
     "execution_count": 21,
     "metadata": {},
     "output_type": "execute_result"
    }
   ],
   "source": [
    "# -- IMPORTS --\n",
    "\n",
    "import os\n",
    "os.chdir('/workplace/xcocek00/common/')\n",
    "from dataset_analysis import (\n",
    "    count_flows,\n",
    "    count_flows_filtered,\n",
    "    calculate_avrg_length,\n",
    "    calculate_avrg_length_filtered,\n",
    "    calculate_avrg_num_pkts,\n",
    ")\n",
    "\n",
    "# sets csv limit\n",
    "import csv\n",
    "import sys\n",
    "csv.field_size_limit(sys.maxsize)"
   ]
  },
  {
   "cell_type": "markdown",
   "metadata": {},
   "source": [
    "\n",
    "---\n",
    "\n",
    "### Mirage19"
   ]
  },
  {
   "cell_type": "code",
   "execution_count": 22,
   "metadata": {},
   "outputs": [
    {
     "name": "stdout",
     "output_type": "stream",
     "text": [
      "[train] Total number of flows: 51978\n",
      "[val] Total number of flows: 5776\n",
      "[test] Total number of flows: 6418\n",
      "\n",
      "[train, >30pkts] Total number of flows: 38959\n",
      "[val, >30pkts] Total number of flows: 4402\n",
      "[test, >30pkts] Total number of flows: 4818\n",
      "---------------------------------\n",
      "[train] Average length: 28.62s\n",
      "[val] Average length: 28.40s\n",
      "[test] Average length: 26.66s\n",
      "\n",
      "[train, >30pkts] Average length: 20.52s\n",
      "[val, >30pkts] Average length: 20.72s\n",
      "[test, >30pkts] Average length: 19.18s\n",
      "---------------------------------\n",
      "[train] Average number of pkts: 30.33\n",
      "[val] Average number of pkts: 30.43\n",
      "[test] Average number of pkts: 30.33\n",
      "\n",
      "[train, >30pkts] Average number of pkts: 31.89\n",
      "[val, >30pkts] Average number of pkts: 31.89\n",
      "[test, >30pkts] Average number of pkts: 31.89\n"
     ]
    }
   ],
   "source": [
    "# datasets\n",
    "train = \"/workplace/datasets/mirage19/processed/splits/train.csv\"\n",
    "val = \"/workplace/datasets/mirage19/processed/splits/val.csv\"\n",
    "test = \"/workplace/datasets/mirage19/processed/splits/test.csv\"\n",
    "\n",
    "# flows\n",
    "print(f\"[train] Total number of flows: {count_flows(train)}\")\n",
    "print(f\"[val] Total number of flows: {count_flows(val)}\")\n",
    "print(f\"[test] Total number of flows: {count_flows(test)}\")\n",
    "\n",
    "print(\"\")\n",
    "\n",
    "print(f\"[train, >30pkts] Total number of flows: {count_flows_filtered(train, 30)}\")\n",
    "print(f\"[val, >30pkts] Total number of flows: {count_flows_filtered(val, 30)}\")\n",
    "print(f\"[test, >30pkts] Total number of flows: {count_flows_filtered(test, 30)}\")\n",
    "\n",
    "print(\"---------------------------------\")\n",
    "\n",
    "# length\n",
    "print(f\"[train] Average length: {calculate_avrg_length(train):.2f}s\")\n",
    "print(f\"[val] Average length: {calculate_avrg_length(val):.2f}s\")\n",
    "print(f\"[test] Average length: {calculate_avrg_length(test):.2f}s\")\n",
    "\n",
    "print(\"\")\n",
    "\n",
    "print(f\"[train, >30pkts] Average length: {calculate_avrg_length_filtered(train, 30):.2f}s\")\n",
    "print(f\"[val, >30pkts] Average length: {calculate_avrg_length_filtered(val, 30):.2f}s\")\n",
    "print(f\"[test, >30pkts] Average length: {calculate_avrg_length_filtered(test, 30):.2f}s\")\n",
    "\n",
    "print(\"---------------------------------\")\n",
    "\n",
    "# avrg pkts\n",
    "print(f\"[train] Average number of pkts: {calculate_avrg_num_pkts(train, 0):.2f}\")\n",
    "print(f\"[val] Average number of pkts: {calculate_avrg_num_pkts(val, 0):.2f}\")\n",
    "print(f\"[test] Average number of pkts: {calculate_avrg_num_pkts(test, 0):.2f}\")\n",
    "\n",
    "print(\"\")\n",
    "\n",
    "print(f\"[train, >30pkts] Average number of pkts: {calculate_avrg_num_pkts(train, 30):.2f}\")\n",
    "print(f\"[val, >30pkts] Average number of pkts: {calculate_avrg_num_pkts(val, 30):.2f}\")\n",
    "print(f\"[test, >30pkts] Average number of pkts: {calculate_avrg_num_pkts(test, 30):.2f}\")"
   ]
  },
  {
   "cell_type": "markdown",
   "metadata": {},
   "source": [
    "---\n",
    "\n",
    "### Mirage22"
   ]
  },
  {
   "cell_type": "code",
   "execution_count": 23,
   "metadata": {},
   "outputs": [
    {
     "name": "stdout",
     "output_type": "stream",
     "text": [
      "[train, >10pkts] Total number of flows: 21685\n",
      "[val, >10pkts] Total number of flows: 2410\n",
      "[test, >10pkts] Total number of flows: 2678\n",
      "---------------------------------\n",
      "[train, >10pkts] Average length: 333.28s\n",
      "[val, >10pkts] Average length: 316.36s\n",
      "[test, >10pkts] Average length: 309.81s\n",
      "---------------------------------\n",
      "[train, >10pkts] Average number of pkts: 6708.65\n",
      "[val, >10pkts] Average number of pkts: 6370.42\n",
      "[test, >10pkts] Average number of pkts: 7258.81\n",
      "\n",
      "---------------------------------\n",
      "---------------------------------\n",
      "\n",
      "[train, >1000pkts] Total number of flows: 3700\n",
      "[val, >1000pkts] Total number of flows: 412\n",
      "[test, >1000pkts] Total number of flows: 457\n",
      "---------------------------------\n",
      "[train, >1000pkts] Average length: 614.51s\n",
      "[val, >1000pkts] Average length: 617.08s\n",
      "[test, >1000pkts] Average length: 588.74s\n",
      "---------------------------------\n",
      "[train, >1000pkts] Average number of pkts: 39466.81\n",
      "[val, >1000pkts] Average number of pkts: 37671.55\n",
      "[test, >1000pkts] Average number of pkts: 35279.41\n"
     ]
    }
   ],
   "source": [
    "# datasets (>10pkts)\n",
    "train = \"/workplace/datasets/mirage22/processed/splits-10/train.csv\"\n",
    "val = \"/workplace/datasets/mirage22/processed/splits-10/val.csv\"\n",
    "test = \"/workplace/datasets/mirage22/processed/splits-10/test.csv\"\n",
    "\n",
    "# flows\n",
    "print(f\"[train, >10pkts] Total number of flows: {count_flows(train)}\")\n",
    "print(f\"[val, >10pkts] Total number of flows: {count_flows(val)}\")\n",
    "print(f\"[test, >10pkts] Total number of flows: {count_flows(test)}\")\n",
    "\n",
    "print(\"---------------------------------\")\n",
    "\n",
    "# length\n",
    "print(f\"[train, >10pkts] Average length: {calculate_avrg_length_filtered(train, 10):.2f}s\")\n",
    "print(f\"[val, >10pkts] Average length: {calculate_avrg_length_filtered(val, 10):.2f}s\")\n",
    "print(f\"[test, >10pkts] Average length: {calculate_avrg_length_filtered(test, 10):.2f}s\")\n",
    "\n",
    "print(\"---------------------------------\")\n",
    "\n",
    "# avrg pkts\n",
    "print(f\"[train, >10pkts] Average number of pkts: {calculate_avrg_num_pkts(train, 10):.2f}\")\n",
    "print(f\"[val, >10pkts] Average number of pkts: {calculate_avrg_num_pkts(val, 10):.2f}\")\n",
    "print(f\"[test, >10pkts] Average number of pkts: {calculate_avrg_num_pkts(test, 10):.2f}\")\n",
    "\n",
    "print(\"\")\n",
    "print(\"---------------------------------\")\n",
    "print(\"---------------------------------\")\n",
    "print(\"\")\n",
    "\n",
    "# datasets (>1000pkts)\n",
    "train = \"/workplace/datasets/mirage22/processed/splits-1000/train.csv\"\n",
    "val = \"/workplace/datasets/mirage22/processed/splits-1000/val.csv\"\n",
    "test = \"/workplace/datasets/mirage22/processed/splits-1000/test.csv\"\n",
    "\n",
    "# flows\n",
    "print(f\"[train, >1000pkts] Total number of flows: {count_flows(train)}\")\n",
    "print(f\"[val, >1000pkts] Total number of flows: {count_flows(val)}\")\n",
    "print(f\"[test, >1000pkts] Total number of flows: {count_flows(test)}\")\n",
    "\n",
    "print(\"---------------------------------\")\n",
    "\n",
    "# length\n",
    "print(f\"[train, >1000pkts] Average length: {calculate_avrg_length_filtered(train, 1000):.2f}s\")\n",
    "print(f\"[val, >1000pkts] Average length: {calculate_avrg_length_filtered(val, 1000):.2f}s\")\n",
    "print(f\"[test, >1000pkts] Average length: {calculate_avrg_length_filtered(test, 1000):.2f}s\")\n",
    "\n",
    "print(\"---------------------------------\")\n",
    "\n",
    "# avrg pkts\n",
    "print(f\"[train, >1000pkts] Average number of pkts: {calculate_avrg_num_pkts(train, 100):.2f}\")\n",
    "print(f\"[val, >1000pkts] Average number of pkts: {calculate_avrg_num_pkts(val, 1000):.2f}\")\n",
    "print(f\"[test, >1000pkts] Average number of pkts: {calculate_avrg_num_pkts(test, 1000):.2f}\")\n"
   ]
  },
  {
   "cell_type": "markdown",
   "metadata": {},
   "source": [
    "---\n",
    "\n",
    "### Ucdavis"
   ]
  },
  {
   "cell_type": "code",
   "execution_count": 27,
   "metadata": {},
   "outputs": [
    {
     "name": "stdout",
     "output_type": "stream",
     "text": [
      "[pretraining] Total number of flows: 6439\n",
      "[val] Total number of flows: 1288\n",
      "[human] Total number of flows: 83\n",
      "[script] Total number of flows: 150\n",
      "---------------------------------\n",
      "[pretraining] Average length: 42.92s\n",
      "[val] Average length: 43.50s\n",
      "[human] Average length: 31.33s\n",
      "[script] Average length: 42.94s\n",
      "---------------------------------\n",
      "[pretraining] Average number of pkts: 6652.93\n",
      "[val] Average number of pkts: 6811.09\n",
      "[human] Average length: 7666.37\n",
      "[script] Average length: 7130.64\n"
     ]
    }
   ],
   "source": [
    "# datasets\n",
    "pretraining = \"/workplace/datasets/ucdavis/final-splits/pretraining.csv\"\n",
    "val = \"/workplace/datasets/ucdavis/final-splits/val.csv\"\n",
    "human = \"/workplace/datasets/ucdavis/final-splits/human.csv\"\n",
    "script = \"/workplace/datasets/ucdavis/final-splits/script.csv\"\n",
    "\n",
    "# flows\n",
    "print(f\"[pretraining] Total number of flows: {count_flows(pretraining)}\")\n",
    "print(f\"[val] Total number of flows: {count_flows(val)}\")\n",
    "print(f\"[human] Total number of flows: {count_flows(human)}\")\n",
    "print(f\"[script] Total number of flows: {count_flows(script)}\")\n",
    "\n",
    "print(\"---------------------------------\")\n",
    "\n",
    "# length\n",
    "print(f\"[pretraining] Average length: {calculate_avrg_length_filtered(pretraining, 0):.2f}s\")\n",
    "print(f\"[val] Average length: {calculate_avrg_length_filtered(val, 0):.2f}s\")\n",
    "print(f\"[human] Average length: {calculate_avrg_length_filtered(human, 0):.2f}s\")\n",
    "print(f\"[script] Average length: {calculate_avrg_length_filtered(script, 0):.2f}s\")\n",
    "\n",
    "print(\"---------------------------------\")\n",
    "\n",
    "# avrg pkts\n",
    "print(f\"[pretraining] Average number of pkts: {calculate_avrg_num_pkts(pretraining, 0):.2f}\")\n",
    "print(f\"[val] Average number of pkts: {calculate_avrg_num_pkts(val, 0):.2f}\")\n",
    "print(f\"[human] Average length: {calculate_avrg_num_pkts(human, 0):.2f}\")\n",
    "print(f\"[script] Average length: {calculate_avrg_num_pkts(script, 0):.2f}\")"
   ]
  },
  {
   "cell_type": "markdown",
   "metadata": {},
   "source": [
    "---\n",
    "\n",
    "### UTMobileNetTraffic21"
   ]
  },
  {
   "cell_type": "code",
   "execution_count": 30,
   "metadata": {},
   "outputs": [
    {
     "name": "stdout",
     "output_type": "stream",
     "text": [
      "[train] Total number of flows: 7568\n",
      "[val] Total number of flows: 946\n",
      "[test] Total number of flows: 946\n",
      "\n",
      "[train, >30pkts] Total number of flows: 5028\n",
      "[val, >30pkts] Total number of flows: 656\n",
      "[test, >30pkts] Total number of flows: 648\n",
      "---------------------------------\n",
      "[train] Average length: 13.47s\n",
      "[val] Average length: 67.40s\n",
      "[test] Average length: 1.59s\n",
      "\n",
      "[train, >30pkts] Average length: 18.23s\n",
      "[val, >30pkts] Average length: 93.25s\n",
      "[test, >30pkts] Average length: 1.05s\n",
      "---------------------------------\n",
      "[train] Average number of pkts: 2537.27\n",
      "[val] Average number of pkts: 1554.43\n",
      "[test] Average number of pkts: 1810.65\n",
      "\n",
      "[train, >30pkts] Average number of pkts: 3808.52\n",
      "[val, >30pkts] Average number of pkts: 2232.41\n",
      "[test, >30pkts] Average number of pkts: 2633.73\n"
     ]
    }
   ],
   "source": [
    "# datasets\n",
    "train = \"/workplace/datasets/utmobilenet21/final-splits/train.csv\"\n",
    "val = \"/workplace/datasets/utmobilenet21/final-splits/val.csv\"\n",
    "test = \"/workplace/datasets/utmobilenet21/final-splits/test.csv\"\n",
    "\n",
    "# flows\n",
    "print(f\"[train] Total number of flows: {count_flows(train)}\")\n",
    "print(f\"[val] Total number of flows: {count_flows(val)}\")\n",
    "print(f\"[test] Total number of flows: {count_flows(test)}\")\n",
    "\n",
    "print(\"\")\n",
    "\n",
    "print(f\"[train, >30pkts] Total number of flows: {count_flows_filtered(train, 30)}\")\n",
    "print(f\"[val, >30pkts] Total number of flows: {count_flows_filtered(val, 30)}\")\n",
    "print(f\"[test, >30pkts] Total number of flows: {count_flows_filtered(test, 30)}\")\n",
    "\n",
    "print(\"---------------------------------\")\n",
    "\n",
    "# length\n",
    "print(f\"[train] Average length: {calculate_avrg_length(train):.2f}s\")\n",
    "print(f\"[val] Average length: {calculate_avrg_length(val):.2f}s\")\n",
    "print(f\"[test] Average length: {calculate_avrg_length(test):.2f}s\")\n",
    "\n",
    "print(\"\")\n",
    "\n",
    "print(f\"[train, >30pkts] Average length: {calculate_avrg_length_filtered(train, 30):.2f}s\")\n",
    "print(f\"[val, >30pkts] Average length: {calculate_avrg_length_filtered(val, 30):.2f}s\")\n",
    "print(f\"[test, >30pkts] Average length: {calculate_avrg_length_filtered(test, 30):.2f}s\")\n",
    "\n",
    "print(\"---------------------------------\")\n",
    "\n",
    "# avrg pkts\n",
    "print(f\"[train] Average number of pkts: {calculate_avrg_num_pkts(train, 0):.2f}\")\n",
    "print(f\"[val] Average number of pkts: {calculate_avrg_num_pkts(val, 0):.2f}\")\n",
    "print(f\"[test] Average number of pkts: {calculate_avrg_num_pkts(test, 0):.2f}\")\n",
    "\n",
    "print(\"\")\n",
    "\n",
    "print(f\"[train, >30pkts] Average number of pkts: {calculate_avrg_num_pkts(train, 30):.2f}\")\n",
    "print(f\"[val, >30pkts] Average number of pkts: {calculate_avrg_num_pkts(val, 30):.2f}\")\n",
    "print(f\"[test, >30pkts] Average number of pkts: {calculate_avrg_num_pkts(test, 30):.2f}\")"
   ]
  }
 ],
 "metadata": {
  "kernelspec": {
   "display_name": "Python 3 (ipykernel)",
   "language": "python",
   "name": "python3"
  },
  "language_info": {
   "codemirror_mode": {
    "name": "ipython",
    "version": 3
   },
   "file_extension": ".py",
   "mimetype": "text/x-python",
   "name": "python",
   "nbconvert_exporter": "python",
   "pygments_lexer": "ipython3",
   "version": "3.12.2"
  }
 },
 "nbformat": 4,
 "nbformat_minor": 2
}
